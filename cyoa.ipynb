{
  "nbformat": 4,
  "nbformat_minor": 0,
  "metadata": {
    "colab": {
      "name": "cyoa.ipynb",
      "provenance": [],
      "collapsed_sections": [],
      "toc_visible": true,
      "authorship_tag": "ABX9TyN0JvVxqQu4v/2bSTbqcef5",
      "include_colab_link": true
    },
    "kernelspec": {
      "name": "python3",
      "display_name": "Python 3"
    },
    "language_info": {
      "name": "python"
    }
  },
  "cells": [
    {
      "cell_type": "markdown",
      "metadata": {
        "id": "view-in-github",
        "colab_type": "text"
      },
      "source": [
        "<a href=\"https://colab.research.google.com/github/zuriBarnes/CYOA_01/blob/main/cyoa.ipynb\" target=\"_parent\"><img src=\"https://colab.research.google.com/assets/colab-badge.svg\" alt=\"Open In Colab\"/></a>"
      ]
    },
    {
      "cell_type": "markdown",
      "source": [
        "# Choose-Your-Own-Adventure\n",
        "Learing Python while having some fun 😀\n",
        "\n"
      ],
      "metadata": {
        "id": "sJV42jLwm7qG"
      }
    },
    {
      "cell_type": "markdown",
      "source": [
        ""
      ],
      "metadata": {
        "id": "vtyfuuWM1Ge7"
      }
    },
    {
      "cell_type": "code",
      "execution_count": null,
      "metadata": {
        "id": "F0YEbRMMmMHo"
      },
      "outputs": [],
      "source": [
        "msg =\"Hello World!!\"\n",
        "print(msg)"
      ]
    },
    {
      "cell_type": "markdown",
      "source": [
        "## Intro\n",
        "\n",
        "The intro section consists of a simple text illustration. This inludes the game title, and version number\n",
        "```\n",
        "# Intro\n",
        "print()\n",
        "print()\n",
        "print(\"     #######################################\")\n",
        "print(\"     ||                                   ||\")\n",
        "print(\"     ||         Choose-Your-Path          ||\")\n",
        "print(\"     ||                                   ||\")\n",
        "print(\"     ||           version 1.0             ||\")\n",
        "print(\"     ||                                   ||\")\n",
        "print(\"     #######################################\")\n",
        "print()\n",
        "print()\n",
        "\n",
        "```"
      ],
      "metadata": {
        "id": "CpAyQfQ9wiOJ"
      }
    },
    {
      "cell_type": "markdown",
      "source": [
        "# Starting the game"
      ],
      "metadata": {
        "id": "WlUanw56x53S"
      }
    },
    {
      "cell_type": "markdown",
      "source": [
        "\n",
        "There seemS to be a few ways to start a text based game. I have broken them down to 3 different Options. All 3 options need to obtain a users input, so they share the same code below\n",
        "\n",
        "```\n",
        "foo = input(\"Would you like to play my game?\")\n",
        "```\n",
        "*This points the variable foo the given value from the user*"
      ],
      "metadata": {
        "id": "JvoxvZzbyMix"
      }
    },
    {
      "cell_type": "markdown",
      "source": [
        "Option #1"
      ],
      "metadata": {
        "id": "lxFtgSFaypzS"
      }
    },
    {
      "cell_type": "code",
      "source": [
        "user_input = input(\"Would you like to play a game? (Y/n): \").lower()\n",
        "\n",
        "if user_input == \"n\":\n",
        "    print(\"ok, cool. Maybe next time\")\n",
        "\n",
        "while user_input != \"n\":\n",
        "    break #run game code here"
      ],
      "metadata": {
        "id": "Keau9st6ypGQ"
      },
      "execution_count": null,
      "outputs": []
    },
    {
      "cell_type": "markdown",
      "source": [
        "Option #2\n",
        "TEST"
      ],
      "metadata": {
        "id": "3_pwXz_E2gcX"
      }
    }
  ]
}